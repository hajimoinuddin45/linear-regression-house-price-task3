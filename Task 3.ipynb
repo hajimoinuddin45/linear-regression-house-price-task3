{
 "cells": [
  {
   "cell_type": "code",
   "execution_count": 1,
   "id": "c26c3ab5-5b8f-4da4-b978-20eedda59456",
   "metadata": {},
   "outputs": [],
   "source": [
    "import pandas as pd\n",
    "import numpy as np\n",
    "import matplotlib.pyplot as plt\n",
    "from sklearn.model_selection import train_test_split\n",
    "from sklearn.linear_model import LinearRegression\n",
    "from sklearn.metrics import mean_absolute_error, mean_squared_error, r2_score"
   ]
  },
  {
   "cell_type": "code",
   "execution_count": 2,
   "id": "10984797-d31a-4239-b7b6-602683dacb6e",
   "metadata": {},
   "outputs": [
    {
     "name": "stdout",
     "output_type": "stream",
     "text": [
      "Dataset loaded successfully!\n"
     ]
    }
   ],
   "source": [
    "# Load dataset\n",
    "df = pd.read_csv(\"C:/Users/Haji Moinuddin/OneDrive/Desktop/Housing.csv\")\n",
    "print(\"Dataset loaded successfully!\")"
   ]
  },
  {
   "cell_type": "code",
   "execution_count": 3,
   "id": "d74feb34-f63b-4bc2-bdbe-b79238bf8c94",
   "metadata": {},
   "outputs": [
    {
     "name": "stdout",
     "output_type": "stream",
     "text": [
      "      price  area  bedrooms  bathrooms  stories mainroad guestroom basement  \\\n",
      "0  13300000  7420         4          2        3      yes        no       no   \n",
      "1  12250000  8960         4          4        4      yes        no       no   \n",
      "2  12250000  9960         3          2        2      yes        no      yes   \n",
      "3  12215000  7500         4          2        2      yes        no      yes   \n",
      "4  11410000  7420         4          1        2      yes       yes      yes   \n",
      "\n",
      "  hotwaterheating airconditioning  parking prefarea furnishingstatus  \n",
      "0              no             yes        2      yes        furnished  \n",
      "1              no             yes        3       no        furnished  \n",
      "2              no              no        2      yes   semi-furnished  \n",
      "3              no             yes        3      yes        furnished  \n",
      "4              no             yes        2       no        furnished  \n",
      "<class 'pandas.core.frame.DataFrame'>\n",
      "RangeIndex: 545 entries, 0 to 544\n",
      "Data columns (total 13 columns):\n",
      " #   Column            Non-Null Count  Dtype \n",
      "---  ------            --------------  ----- \n",
      " 0   price             545 non-null    int64 \n",
      " 1   area              545 non-null    int64 \n",
      " 2   bedrooms          545 non-null    int64 \n",
      " 3   bathrooms         545 non-null    int64 \n",
      " 4   stories           545 non-null    int64 \n",
      " 5   mainroad          545 non-null    object\n",
      " 6   guestroom         545 non-null    object\n",
      " 7   basement          545 non-null    object\n",
      " 8   hotwaterheating   545 non-null    object\n",
      " 9   airconditioning   545 non-null    object\n",
      " 10  parking           545 non-null    int64 \n",
      " 11  prefarea          545 non-null    object\n",
      " 12  furnishingstatus  545 non-null    object\n",
      "dtypes: int64(6), object(7)\n",
      "memory usage: 55.5+ KB\n",
      "\n",
      "Dataset Info:\n",
      " None\n"
     ]
    }
   ],
   "source": [
    "# Quick look at the data\n",
    "print(df.head())\n",
    "print(\"\\nDataset Info:\\n\", df.info())"
   ]
  },
  {
   "cell_type": "code",
   "execution_count": 4,
   "id": "f27ab07c-a33d-48be-a61c-2afa58a2a8ed",
   "metadata": {},
   "outputs": [
    {
     "name": "stdout",
     "output_type": "stream",
     "text": [
      "\n",
      "Missing values handled (if any).\n"
     ]
    }
   ],
   "source": [
    "# Handle missing values if any\n",
    "df = df.dropna()\n",
    "print(\"\\nMissing values handled (if any).\")"
   ]
  },
  {
   "cell_type": "code",
   "execution_count": 5,
   "id": "24858138-32a4-4373-bd22-0ea66b94e1e8",
   "metadata": {},
   "outputs": [],
   "source": [
    "# Simple Linear Regression: Area vs Price\n",
    "X = df[['area']]  # Independent variable\n",
    "y = df['price']   # Dependent variable\n",
    "\n",
    "# Split data into train and test\n",
    "X_train, X_test, y_train, y_test = train_test_split(X, y, test_size=0.2, random_state=42)\n"
   ]
  },
  {
   "cell_type": "code",
   "execution_count": 6,
   "id": "b8685c71-7086-4d27-ae26-a90200171e84",
   "metadata": {},
   "outputs": [],
   "source": [
    "# Initialize and train model\n",
    "lr = LinearRegression()\n",
    "lr.fit(X_train, y_train)\n",
    "\n",
    "# Predict\n",
    "y_pred = lr.predict(X_test)\n"
   ]
  },
  {
   "cell_type": "code",
   "execution_count": 7,
   "id": "4071198c-fb8f-4c58-8718-66d516fb8a1d",
   "metadata": {},
   "outputs": [
    {
     "name": "stdout",
     "output_type": "stream",
     "text": [
      "\n",
      "Simple Linear Regression Evaluation:\n",
      "Mean Absolute Error: 1474748.1337969352\n",
      "Mean Squared Error: 3675286604768.185\n",
      "R² Score: 0.27287851871974644\n"
     ]
    }
   ],
   "source": [
    "# Evaluate model\n",
    "mae = mean_absolute_error(y_test, y_pred)\n",
    "mse = mean_squared_error(y_test, y_pred)\n",
    "r2 = r2_score(y_test, y_pred)\n",
    "\n",
    "print(f\"\\nSimple Linear Regression Evaluation:\")\n",
    "print(f\"Mean Absolute Error: {mae}\")\n",
    "print(f\"Mean Squared Error: {mse}\")\n",
    "print(f\"R² Score: {r2}\")"
   ]
  },
  {
   "cell_type": "code",
   "execution_count": 8,
   "id": "eca96a94-8823-47ff-a589-ddaa9d14c378",
   "metadata": {},
   "outputs": [
    {
     "data": {
      "image/png": "[encoded data removed]",
      "text/plain": [
       "<Figure size 640x480 with 1 Axes>"
      ]
     },
     "metadata": {},
     "output_type": "display_data"
    }
   ],
   "source": [
    "# Plot regression line\n",
    "plt.scatter(X_test, y_test, color='blue', label=\"Actual\")\n",
    "plt.plot(X_test, y_pred, color='red', linewidth=2, label=\"Predicted\")\n",
    "plt.title('Area vs Price')\n",
    "plt.xlabel('Area (sqft)')\n",
    "plt.ylabel('Price')\n",
    "plt.legend()\n",
    "plt.show()"
   ]
  },
  {
   "cell_type": "code",
   "execution_count": 9,
   "id": "4b44bc6f-4c9e-46a6-b1f9-abff5bb3a2aa",
   "metadata": {},
   "outputs": [
    {
     "name": "stdout",
     "output_type": "stream",
     "text": [
      "Intercept: 2512254.2639593435\n",
      "Coefficient for area: 425.72984193878284\n"
     ]
    }
   ],
   "source": [
    "# Print model coefficients\n",
    "print(f\"Intercept: {lr.intercept_}\")\n",
    "print(f\"Coefficient for area: {lr.coef_[0]}\")"
   ]
  },
  {
   "cell_type": "code",
   "execution_count": 10,
   "id": "b21bec3c-3881-4801-9f7b-0dd1ebd9ffa1",
   "metadata": {},
   "outputs": [
    {
     "name": "stdout",
     "output_type": "stream",
     "text": [
      "\n",
      "Multiple Linear Regression Evaluation:\n",
      "Mean Absolute Error: 1265275.6699454375\n",
      "Mean Squared Error: 2750040479309.052\n",
      "R² Score: 0.45592991188724463\n"
     ]
    }
   ],
   "source": [
    "# Multiple Linear Regression\n",
    "features = ['area', 'bedrooms', 'bathrooms']\n",
    "X_multi = df[features]\n",
    "y_multi = df['price']\n",
    "\n",
    "X_train_multi, X_test_multi, y_train_multi, y_test_multi = train_test_split(X_multi, y_multi, test_size=0.2, random_state=42)\n",
    "\n",
    "lr_multi = LinearRegression()\n",
    "lr_multi.fit(X_train_multi, y_train_multi)\n",
    "\n",
    "y_pred_multi = lr_multi.predict(X_test_multi)\n",
    "\n",
    "# Evaluate multiple regression model\n",
    "print(f\"\\nMultiple Linear Regression Evaluation:\")\n",
    "print(f\"Mean Absolute Error: {mean_absolute_error(y_test_multi, y_pred_multi)}\")\n",
    "print(f\"Mean Squared Error: {mean_squared_error(y_test_multi, y_pred_multi)}\")\n",
    "print(f\"R² Score: {r2_score(y_test_multi, y_pred_multi)}\")"
   ]
  },
  {
   "cell_type": "code",
   "execution_count": 11,
   "id": "828f846e-8a05-4692-995f-9bec5c779606",
   "metadata": {},
   "outputs": [
    {
     "name": "stdout",
     "output_type": "stream",
     "text": [
      "\n",
      "Coefficients:\n",
      "      Feature   Coefficient\n",
      "0       area  3.454666e+02\n",
      "1   bedrooms  3.601977e+05\n",
      "2  bathrooms  1.422320e+06\n",
      "Linear Regression task completed.\n"
     ]
    }
   ],
   "source": [
    "# Coefficients Interpretation\n",
    "coef_df = pd.DataFrame({\n",
    "    'Feature': features,\n",
    "    'Coefficient': lr_multi.coef_\n",
    "})\n",
    "print(\"\\nCoefficients:\\n\", coef_df)\n",
    "\n",
    "print(\"Linear Regression task completed.\")"
   ]
  }
 ],
 "metadata": {
  "kernelspec": {
   "display_name": "Python 3 (ipykernel)",
   "language": "python",
   "name": "python3"
  },
  "language_info": {
   "codemirror_mode": {
    "name": "ipython",
    "version": 3
   },
   "file_extension": ".py",
   "mimetype": "text/x-python",
   "name": "python",
   "nbconvert_exporter": "python",
   "pygments_lexer": "ipython3",
   "version": "3.10.10"
  }
 },
 "nbformat": 4,
 "nbformat_minor": 5
}
